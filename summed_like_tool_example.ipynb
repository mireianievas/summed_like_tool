{
 "cells": [
  {
   "cell_type": "code",
   "execution_count": null,
   "metadata": {},
   "outputs": [],
   "source": [
    "import sys\n",
    "%load_ext autoreload\n",
    "%autoreload 2\n",
    "\n",
    "#### summed_like_tool can be obtained from github: https://github.com/mireianievas/summed_like_tool\n",
    "#### shame on me for the complete lack of documentation. \n",
    "\n",
    "sys.path.append(\"/home/mnievas/Software/summed_like_tool/\")\n",
    "#from summed_like_tool import fermi,lst,utils,fitmaker\n",
    "import astropy.units as u\n",
    "import regions\n",
    "import matplotlib.pyplot as plt\n",
    "from summed_like_tool.fermi import analysis as fermianalysis\n",
    "from summed_like_tool.fitmaker import spectrum as spectrum\n",
    "from gammapy.maps import WcsGeom\n",
    "from gammapy.modeling.models import (\n",
    "    SkyModel,\n",
    "    EBLAbsorptionNormSpectralModel,\n",
    "    PowerLawSpectralModel,\n",
    "    LogParabolaSpectralModel,\n",
    ")"
   ]
  },
  {
   "cell_type": "code",
   "execution_count": null,
   "metadata": {},
   "outputs": [],
   "source": [
    "%env GAMMAPY_DATA=/home/mnievas/Software/cta/gammapy/gammapy-datasets/"
   ]
  },
  {
   "cell_type": "code",
   "execution_count": null,
   "metadata": {},
   "outputs": [],
   "source": [
    "redshift = 0.00428\n",
    "\n",
    "dominguez = EBLAbsorptionNormSpectralModel.read_builtin(\"dominguez\", redshift=redshift)\n",
    "lat_path = \"/home/mnievas/LAT/M87_2020-2021/\"\n",
    "lat_aux  = \"/home/mnievas/LAT/enrico/Data/diffuse/\"\n",
    "srcmodel = 'PowerLaw'\n",
    "targetname = \"M87\""
   ]
  },
  {
   "cell_type": "code",
   "execution_count": null,
   "metadata": {},
   "outputs": [],
   "source": [
    "FermiFrontBack = fermianalysis.FermiAnalysis(lat_path,lat_aux,srcmodel)\n",
    "FermiFrontBack.prepare_files('FRONT')"
   ]
  },
  {
   "cell_type": "code",
   "execution_count": null,
   "metadata": {},
   "outputs": [],
   "source": [
    "FermiFrontBack.print_selected_files()"
   ]
  },
  {
   "cell_type": "code",
   "execution_count": null,
   "metadata": {},
   "outputs": [],
   "source": [
    "FermiFrontBack.gen_analysis(targetname,redshift=redshift,ebl_model='dominguez')"
   ]
  },
  {
   "cell_type": "code",
   "execution_count": null,
   "metadata": {},
   "outputs": [],
   "source": [
    "FermiFrontBack.plot_counts_map()\n",
    "for s in FermiFrontBack.SkyModel.list_sources:\n",
    "    spatial = s.spatial_model\n",
    "    if (spatial.tag[0]=='PointSpatialModel'):\n",
    "        for c in spatial.parameters:\n",
    "            if c.name == 'lon_0':\n",
    "                lon = c.value\n",
    "            if c.name == 'lat_0':\n",
    "                lat = c.value\n",
    "        #print(lon,lat,c)\n",
    "        plt.gca().plot_coord(spatial.position,color='red',marker='x',ms=3)\n",
    "        #break\n"
   ]
  },
  {
   "cell_type": "code",
   "execution_count": null,
   "metadata": {},
   "outputs": [],
   "source": [
    "# Filter out data far away from the source position in the minimization\n",
    "exclusion_region = regions.CircleAnnulusSkyRegion(FermiFrontBack.dataset.mask_image.geom.center_skydir,\n",
    "                                          10*u.deg,30*u.deg)\n",
    "\n",
    "FermiFrontBack.add_exclusion_region(exclusion_region)\n",
    "FermiFrontBack.create_exclusion_mask()"
   ]
  },
  {
   "cell_type": "code",
   "execution_count": null,
   "metadata": {},
   "outputs": [],
   "source": [
    "FermiFrontBack.exclusion_mask.plot_interactive()"
   ]
  },
  {
   "cell_type": "code",
   "execution_count": null,
   "metadata": {},
   "outputs": [],
   "source": [
    "FSpectrum = spectrum.SpectralAnalysis([FermiFrontBack])\n",
    "FSpectrum.set_energy_mask(FSpectrum.datasets[0],emin=100*u.MeV,emax=1000*u.GeV)\n",
    "FSpectrum.global_fit()\n",
    "FSpectrum.set_target_source(targetname)\n",
    "FSpectrum.read_enrico_spectrum()\n",
    "FSpectrum.get_spectral_points()\n",
    "FSpectrum.plot_spectrum()\n",
    "FSpectrum.plot_spectrum_enrico()"
   ]
  },
  {
   "cell_type": "code",
   "execution_count": null,
   "metadata": {},
   "outputs": [],
   "source": [
    "srcpos = FermiFrontBack.SkyModel.list_sources[-1].spatial_model.position\n",
    "FermiFrontBack.dataset.plot_residuals(kwargs_spectral={'region':regions.CircleSkyRegion(srcpos,radius=3*u.deg)})"
   ]
  },
  {
   "cell_type": "markdown",
   "metadata": {},
   "source": [
    "### MAGIC "
   ]
  },
  {
   "cell_type": "code",
   "execution_count": null,
   "metadata": {},
   "outputs": [],
   "source": [
    "from summed_like_tool.iact import analysis as iactanalysis\n",
    "import os\n",
    "import glob\n",
    "import numpy as np\n",
    "from gammapy.data import DataStore\n",
    "from pathlib import Path\n",
    "import astropy.io.fits as pyfits"
   ]
  },
  {
   "cell_type": "code",
   "execution_count": null,
   "metadata": {},
   "outputs": [],
   "source": [
    "#!rm -rf /home/mnievas/DL3/M87/MAGIC/all/20*DL3*.fits\n",
    "#!rm -rf /home/mnievas/DL3/M87/MAGIC/fold/20*DL3*.fits"
   ]
  },
  {
   "cell_type": "code",
   "execution_count": null,
   "metadata": {},
   "outputs": [],
   "source": [
    "#!ls /mnt/sda1/MAGIC/M87/M87_ST0316/M87/DL3/*/20*DL3*.fits | wc -l"
   ]
  },
  {
   "cell_type": "code",
   "execution_count": null,
   "metadata": {},
   "outputs": [],
   "source": [
    "#!cp -a /mnt/sda1/MAGIC/M87/M87_ST0316/M87/DL3/*/20*DL3*.fits /home/mnievas/DL3/M87/MAGIC/all/\n",
    "#!cp -a /home/mnievas/DL3/M87/MAGIC/{Dark,Light,Moderate,Bright,VeryBright}/*DL3*.fits /home/mnievas/DL3/M87/MAGIC/all/"
   ]
  },
  {
   "cell_type": "code",
   "execution_count": null,
   "metadata": {},
   "outputs": [],
   "source": [
    "#!ls /home/mnievas/DL3/M87/MAGIC/all/2*.fits | wc -l"
   ]
  },
  {
   "cell_type": "code",
   "execution_count": null,
   "metadata": {},
   "outputs": [],
   "source": [
    "#!rsync -av -L /mnt/sda1/MAGIC/M87/M87_ST0316/M87/Flute/*{fold,foam,combine,Fold,Foam,Combine}* /home/mnievas/DL3/M87/MAGIC/fold/\n",
    "#!micsync mic:~/CurrentSource/M87/Flute/*{fold,foam,combine,Fold,Foam,Combine}* /home/mnievas/DL3/M87/MAGIC/fold/"
   ]
  },
  {
   "cell_type": "code",
   "execution_count": null,
   "metadata": {},
   "outputs": [],
   "source": [
    "magicpath = \"/home/mnievas/DL3/M87/MAGIC/all/\"\n",
    "paths = glob.glob(f\"{magicpath}/2*DL3*.fits\")"
   ]
  },
  {
   "cell_type": "code",
   "execution_count": null,
   "metadata": {},
   "outputs": [],
   "source": [
    "len(paths)"
   ]
  },
  {
   "cell_type": "code",
   "execution_count": null,
   "metadata": {},
   "outputs": [],
   "source": [
    "pyfits.open(paths[0])[3].header"
   ]
  },
  {
   "cell_type": "code",
   "execution_count": null,
   "metadata": {},
   "outputs": [],
   "source": [
    "magicpath = \"/home/mnievas/DL3/M87/MAGIC/all/\"\n",
    "#paths = glob.glob(f\"{magicpath}/20*DL3*.fits\")\n",
    "#data_store = DataStore.from_events_files(paths)\n",
    "#observations = data_store.get_observations(required_irf=[\"psf\",\"aeff\", \"edisp\",\"rad_max\"])\n",
    "#data_store.hdu_table.write(\"hdu-index.fits.gz\",overwrite=True) \n",
    "#data_store.obs_table.write(\"obs-index.fits.gz\",overwrite=True) "
   ]
  },
  {
   "cell_type": "code",
   "execution_count": null,
   "metadata": {},
   "outputs": [],
   "source": [
    "srcmodel = \"PowerLaw\"\n",
    "MAGIC = iactanalysis.Analysis1D(magicpath,srcmodel)\n",
    "MAGIC.create_datastore(overwrite=True)\n",
    "#MAGIC.get_targetname()\n",
    "MAGIC.set_targetname(\"M87\")\n",
    "MAGIC.get_observations()\n",
    "MAGIC.set_energy_axes()\n",
    "MAGIC.set_src_pos()\n",
    "MAGIC.set_on_region()\n",
    "MAGIC.run_region_finder(1)\n",
    "MAGIC.create_safe_mask_min_aeff(\n",
    "    aeff_percent=5,\n",
    "    bias_percent=5\n",
    ")\n",
    "MAGIC.add_exclusion_region()\n",
    "MAGIC.create_exclusion_mask()\n",
    "MAGIC.create_datasets()\n",
    "spectral_model_lp = PowerLawSpectralModel(\n",
    "    amplitude=1e-10 * u.Unit(\"cm-2 s-1 TeV-1\"),\n",
    "    index=2.2,\n",
    "    #beta=0.02,\n",
    "    reference=0.5*u.TeV,\n",
    ")\n",
    "magic_model = SkyModel(spectral_model=spectral_model_lp, \n",
    "                     name=MAGIC.targetname)\n",
    "\n",
    "from gammapy.datasets import (\n",
    "    Datasets,\n",
    ")\n",
    "\n",
    "MAGIC.dataset = Datasets(MAGIC.datasets).stack_reduce(name='MAGIC')\n",
    "\n",
    "MAGIC.dataset.models = [magic_model]\n",
    "#MAGIC.dataset.models = [FermiFrontBack.dataset.models[-1]]\n"
   ]
  },
  {
   "cell_type": "code",
   "execution_count": null,
   "metadata": {},
   "outputs": [],
   "source": [
    "MAGIC.plot_excess_ts_livetime()"
   ]
  },
  {
   "cell_type": "code",
   "execution_count": null,
   "metadata": {},
   "outputs": [],
   "source": [
    "myobs = MAGIC.observations_total[0]"
   ]
  },
  {
   "cell_type": "code",
   "execution_count": null,
   "metadata": {},
   "outputs": [],
   "source": [
    "from gammapy.makers.utils import make_theta_squared_table\n",
    "from gammapy.visualization import plot_theta_squared_table\n",
    "from gammapy.maps import MapAxis\n",
    "\n",
    "theta2cut_f = 0.009\n",
    "thetacut  = np.sqrt(theta2cut_f)\n",
    "\n",
    "theta2_axis = MapAxis.from_bounds(0, theta2cut_f*20, nbin=40, interp=\"lin\", unit=\"deg2\")\n",
    "\n",
    "theta2_table = make_theta_squared_table(\n",
    "    observations=MAGIC.observations_total,\n",
    "    position=MAGIC.src_pos,\n",
    "    theta_squared_axis=theta2_axis,\n",
    ")\n",
    "#plt.figure(dpi=120)\n",
    "#plot_theta_squared_table(theta2_table)\n",
    "\n",
    "plt.figure(figsize=(6,3),dpi=120)\n",
    "plt.stairs(\n",
    "    edges=np.append(theta2_table['theta2_min'],\n",
    "                    theta2_table['theta2_max'][-1]),\n",
    "    values=theta2_table['counts_off'],\n",
    "    fill=True,\n",
    "    color='0.2',\n",
    "    facecolor='0.8',\n",
    "    label='OFF data'\n",
    ")\n",
    "\n",
    "plt.stairs(\n",
    "    edges=np.append(theta2_table['theta2_min'],\n",
    "                    theta2_table['theta2_max'][-1]),\n",
    "    values=theta2_table['counts_off'],\n",
    "    fill=False,\n",
    "    color='0.2',\n",
    "    lw=0.5,\n",
    ")\n",
    "\n",
    "plt.errorbar(\n",
    "    x = 0.5*(theta2_table['theta2_min']+theta2_table['theta2_max']),\n",
    "    xerr = 0.5*(theta2_table['theta2_max']-theta2_table['theta2_min']),\n",
    "    y = theta2_table['counts_off'] + theta2_table['excess'],\n",
    "    yerr = [-theta2_table['excess_errn'],theta2_table['excess_errp'],],\n",
    "    ls='None',\n",
    "    color='darkblue',\n",
    "    label='ON data',\n",
    "    lw=0.5,\n",
    "    marker='o',\n",
    "    ms=1,\n",
    ")\n",
    "\n",
    "\n",
    "theta2cut = theta2_table['theta2_max']<=theta2cut_f\n",
    "\n",
    "min_off_counts = np.min(theta2_table['counts_off'])\n",
    "min_on_counts = np.min(theta2_table['counts']+theta2_table['excess_errn'])\n",
    "\n",
    "\n",
    "TStot = np.sum(theta2_table['sqrt_ts'][theta2cut]*\\\n",
    "               np.abs(theta2_table['sqrt_ts'][theta2cut]))\n",
    "\n",
    "plt.axvline(theta2_table['theta2_max'][theta2cut][-1],\n",
    "            ls='dotted',\n",
    "            ymin=0.2,ymax=0.8,\n",
    "            color='0.2',label='$\\\\theta^2 cut$',lw=1)\n",
    "\n",
    "plt.ylim(np.min([min_off_counts*0.95,min_on_counts*0.98]),)\n",
    "plt.legend()\n",
    "plt.xlabel('$\\\\theta^2$ [deg^2]')\n",
    "plt.xlim(0,theta2cut_f*20)\n",
    "plt.ylabel('$\\mathrm{N_{events}}$')\n",
    "plt.text(0.4,0.9,f'Significance = {np.sqrt(TStot):.1f} $\\sigma$',transform=plt.gca().transAxes )"
   ]
  },
  {
   "cell_type": "code",
   "execution_count": null,
   "metadata": {},
   "outputs": [],
   "source": [
    "!ls /home/mnievas/DL3/M87/MAGIC/fold/"
   ]
  },
  {
   "cell_type": "code",
   "execution_count": null,
   "metadata": {},
   "outputs": [],
   "source": [
    "import uproot\n",
    "foam = uproot.open(\"/home/mnievas/DL3/M87/MAGIC/fold/foam.root\")"
   ]
  },
  {
   "cell_type": "code",
   "execution_count": null,
   "metadata": {},
   "outputs": [],
   "source": [
    "sss = foam['total_non']"
   ]
  },
  {
   "cell_type": "code",
   "execution_count": null,
   "metadata": {},
   "outputs": [],
   "source": [
    "sss.to_numpy()"
   ]
  },
  {
   "cell_type": "code",
   "execution_count": null,
   "metadata": {},
   "outputs": [],
   "source": [
    "scipy_opts = {\n",
    "    \"method\": \"L-BFGS-B\",\n",
    "    \"options\": {\"ftol\": 1e-4, \"gtol\": 1e-05},\n",
    "    \"backend\": \"scipy\",\n",
    "}\n",
    "\n",
    "MSpectrum = spectrum.SpectralAnalysis([MAGIC],backend='scipy',optimize_opts = scipy_opts,store_trace=True)\n",
    "mod = MSpectrum.datasets[0].models\n",
    "mod.parameters.value = [2.3, 2e-12, 0.5]\n",
    "mod.parameters.max   = [3.5, 5e-11, 0.5]\n",
    "mod.parameters.min   = [1.5, 1e-13, 0.5]\n",
    "mod.parameters[0].error = 0.2\n",
    "mod.parameters[1].error = 1e-12\n",
    "print(mod.parameters.to_table())\n",
    "#MSpectrum.global_fit()\n",
    "MSpectrum.set_target_source(targetname)\n",
    "MSpectrum.set_energy_mask(MSpectrum.datasets[0],emin=80*u.GeV,emax=10*u.TeV)\n",
    "MSpectrum.global_fit()\n",
    "\n",
    "MSpectrum.target_model = MAGIC.dataset.models[0]\n",
    "MSpectrum.get_spectral_points(np.logspace(np.log10(50),np.log10(20000),17)*u.GeV)\n",
    "MSpectrum.plot_spectrum()\n",
    "MSpectrum.plot_spectrum_fold(f\"{magicpath.replace('all','fold')}/Output_fold.root\")"
   ]
  },
  {
   "cell_type": "code",
   "execution_count": null,
   "metadata": {},
   "outputs": [],
   "source": [
    "MSpectrum.fit.minuit"
   ]
  },
  {
   "cell_type": "code",
   "execution_count": null,
   "metadata": {},
   "outputs": [],
   "source": [
    "print(MAGIC.dataset.models[-1])"
   ]
  },
  {
   "cell_type": "code",
   "execution_count": null,
   "metadata": {},
   "outputs": [],
   "source": [
    "from gammapy.estimators import LightCurveEstimator\n",
    "import astropy.time as atime\n",
    "\n",
    "lc_maker = LightCurveEstimator(\n",
    "    energy_edges=[0.35, 20] * u.TeV, source=\"M87-MAGIC\", reoptimize=False,\n",
    ")\n",
    "\n",
    "\n",
    "magic_lc = lc_maker.run(MAGIC.dataset)\n",
    "magic_lc_table = magic_lc.to_table(sed_type=\"flux\", \n",
    "                                   format=\"lightcurve\")\n",
    "\n",
    "print(magic_lc_table)\n",
    "#magic_lc.plot(color=\"tab:orange\")\n",
    "#ax = magic_lc.plot_ts_profiles()\n"
   ]
  },
  {
   "cell_type": "code",
   "execution_count": null,
   "metadata": {},
   "outputs": [],
   "source": []
  },
  {
   "cell_type": "code",
   "execution_count": null,
   "metadata": {},
   "outputs": [],
   "source": [
    "FMSpectrum = spectrum.SpectralAnalysis([FermiFrontBack,MAGIC])\n",
    "#FMSpectrum.global_fit()\n",
    "#FMSpectrum.set_target_source(targetname)\n",
    "#FMSpectrum.set_energy_mask(FMSpectrum.datasets[0],emin=80*u.GeV,emax=10*u.TeV)\n",
    "#FMSpectrum.target_model = MAGIC.dataset.models[0]\n",
    "#FMSpectrum.get_spectral_points(np.logspace(1.8,4,13)*u.GeV)\n",
    "#FMSpectrum.plot_spectrum()\n",
    "#FMSpectrum.plot_spectrum_fold(f\"{magicpath.replace('all','fold')}/Output_fold.root\")"
   ]
  },
  {
   "cell_type": "code",
   "execution_count": null,
   "metadata": {},
   "outputs": [],
   "source": [
    "spectral_model_lp = LogParabolaSpectralModel(\n",
    "    amplitude=1e-9 * u.Unit(\"cm-2 s-1 TeV-1\"),\n",
    "    index=1.9,\n",
    "    beta=0.02,\n",
    "    reference=10*u.GeV,\n",
    ")"
   ]
  },
  {
   "cell_type": "code",
   "execution_count": null,
   "metadata": {},
   "outputs": [],
   "source": [
    "from gammapy.modeling.models.core import DatasetModels\n",
    "import astropy.table as tab\n",
    "\n",
    "models = DatasetModels(FermiFrontBack.dataset.models)\n",
    "models[-1].spectral_model = spectral_model_lp\n",
    "\n",
    "for model in models:\n",
    "    model.datasets_names = ['Fermi-LAT_FRONT']\n",
    "    \n",
    "models[-1].datasets_names = ['Fermi-LAT_FRONT','MAGIC']\n",
    "\n",
    "\n",
    "#model_1d = SkyModel(\n",
    "#    spectral_model=models[-1].spectral_model,\n",
    "#    name=\"M87-MAGIC\",\n",
    "#    datasets_names=[\"MAGIC\"],\n",
    "#)\n",
    "#models = models + model_1d\n"
   ]
  },
  {
   "cell_type": "code",
   "execution_count": null,
   "metadata": {},
   "outputs": [],
   "source": [
    "FMSpectrum.datasets.models = models"
   ]
  },
  {
   "cell_type": "code",
   "execution_count": null,
   "metadata": {},
   "outputs": [],
   "source": [
    "print(FMSpectrum.datasets)"
   ]
  },
  {
   "cell_type": "code",
   "execution_count": null,
   "metadata": {},
   "outputs": [],
   "source": [
    "print(models[-1])"
   ]
  },
  {
   "cell_type": "code",
   "execution_count": null,
   "metadata": {},
   "outputs": [],
   "source": [
    "FMSpectrum.set_energy_mask(FMSpectrum.datasets[0],emin=100*u.MeV,emax=30*u.TeV)\n",
    "FMSpectrum.set_energy_mask(FMSpectrum.datasets[1],emin=100*u.MeV,emax=30*u.TeV)\n",
    "FMSpectrum.global_fit()"
   ]
  },
  {
   "cell_type": "code",
   "execution_count": null,
   "metadata": {},
   "outputs": [],
   "source": [
    "FMSpectrum.ebin_edges = [0.1*u.GeV,30*u.TeV]\n",
    "FMSpectrum.set_target_source(FMSpectrum.datasets.models[-1].name)"
   ]
  },
  {
   "cell_type": "code",
   "execution_count": null,
   "metadata": {},
   "outputs": [],
   "source": [
    "FMSpectrum.plot_spectrum()"
   ]
  },
  {
   "cell_type": "code",
   "execution_count": null,
   "metadata": {},
   "outputs": [],
   "source": [
    "FMSpectrum.datasets[\"MAGIC\"].npred().data.flatten()"
   ]
  },
  {
   "cell_type": "code",
   "execution_count": null,
   "metadata": {},
   "outputs": [],
   "source": [
    "FMSpectrum2 = spectrum.SpectralAnalysis([FermiFrontBack,MAGIC])\n",
    "from gammapy.modeling.models.core import DatasetModels\n",
    "from gammapy.modeling.models import EBLAbsorptionNormSpectralModel\n",
    "import astropy.table as tab\n",
    "\n",
    "models2 = DatasetModels(FermiFrontBack.dataset.models)\n",
    "\n",
    "redshift = 0.00428\n",
    "eblabs = EBLAbsorptionNormSpectralModel.read_builtin(\"dominguez\")\n",
    "\n",
    "# EBL + PWL model\n",
    "spectral_model_lp_abs = spectral_model_lp * eblabs\n",
    "\n",
    "models2[-1].spectral_model = spectral_model_lp_abs\n",
    "\n",
    "for model in models2:\n",
    "    model.datasets_names = ['Fermi-LAT_FRONT']\n",
    "    \n",
    "#models2[-1].datasets_names = ['Fermi-LAT_FRONT','MAGIC']\n",
    "\n",
    "\n",
    "model_1d = SkyModel(\n",
    "    spectral_model=models2[-1].spectral_model,\n",
    "    name=\"M87-MAGIC\",\n",
    "    datasets_names=[\"MAGIC\"],\n",
    ")\n",
    "models2 = models2 + model_1d\n",
    "\n",
    "FMSpectrum2.datasets.models = models2\n",
    "\n",
    "FMSpectrum2.set_energy_mask(FMSpectrum2.datasets[0],emin=100*u.MeV,emax=30*u.TeV)\n",
    "FMSpectrum2.set_energy_mask(FMSpectrum2.datasets[1],emin=100*u.MeV,emax=30*u.TeV)\n",
    "FMSpectrum2.global_fit()\n",
    "\n",
    "FMSpectrum2.ebin_edges = [0.1*u.GeV,30*u.TeV]\n",
    "FMSpectrum2.set_target_source(FMSpectrum2.datasets.models[-2].name)\n",
    "FMSpectrum2.plot_spectrum()\n",
    "FMSpectrum2.ax.set_xlim([0.08,30000])\n",
    "FMSpectrum2.ax.set_ylim([1e-15,4e-11])\n",
    "#FMSpectrum2.Fig"
   ]
  },
  {
   "cell_type": "code",
   "execution_count": null,
   "metadata": {},
   "outputs": [],
   "source": [
    "FMSpectrum2.datasets[\"MAGIC\"].npred().data.flatten()"
   ]
  },
  {
   "cell_type": "code",
   "execution_count": null,
   "metadata": {},
   "outputs": [],
   "source": [
    "FMSpectrum2.set_target_source(FMSpectrum.datasets.models[-1].name,FMSpectrum2.datasets[-1])\n",
    "FMSpectrum2.get_spectral_points(np.logspace(2,4,8)*u.GeV,datasets=[FMSpectrum2.datasets[-1]])\n",
    "fptab1 = FMSpectrum2.flux_points"
   ]
  },
  {
   "cell_type": "code",
   "execution_count": null,
   "metadata": {},
   "outputs": [],
   "source": [
    "FMSpectrum2.set_target_source(FMSpectrum2.datasets.models[-2].name,FMSpectrum2.datasets[-2])\n",
    "FMSpectrum2.get_spectral_points(np.logspace(-1,3,9)*u.GeV,datasets=[FMSpectrum2.datasets[-2]])\n",
    "fptab2 = FMSpectrum2.flux_points"
   ]
  },
  {
   "cell_type": "code",
   "execution_count": null,
   "metadata": {},
   "outputs": [],
   "source": [
    "fptab1.plot(ax=FMSpectrum2.ax,sed_type='e2dnde')\n",
    "fptab2.plot(ax=FMSpectrum2.ax,sed_type='e2dnde')"
   ]
  },
  {
   "cell_type": "code",
   "execution_count": null,
   "metadata": {},
   "outputs": [],
   "source": [
    "FMSpectrum2.ebin_edges = [0.1*u.GeV,30*u.TeV]\n",
    "FMSpectrum2.set_target_source(FMSpectrum2.datasets.models[-2].name)\n",
    "FMSpectrum2.ax.set_xlim([0.08,30000])\n",
    "FMSpectrum2.ax.set_ylim([1e-15,4e-11])\n",
    "FMSpectrum2.Fig"
   ]
  },
  {
   "cell_type": "code",
   "execution_count": null,
   "metadata": {},
   "outputs": [],
   "source": [
    "FMSpectrum2.plot_spectrum_fold(f\"{magicpath.replace('all','fold')}/Output_fold.root\")"
   ]
  },
  {
   "cell_type": "code",
   "execution_count": null,
   "metadata": {},
   "outputs": [],
   "source": [
    "FMSpectrum2.lat_bute = FSpectrum.lat_bute\n",
    "FMSpectrum2.lat_ebin = FSpectrum.lat_ebin\n",
    "FMSpectrum2.plot_spectrum_enrico()"
   ]
  },
  {
   "cell_type": "code",
   "execution_count": null,
   "metadata": {},
   "outputs": [],
   "source": [
    "FMSpectrum2.ax.set_xlim([0.08,30000])\n",
    "FMSpectrum2.ax.set_ylim([3e-14,4e-11])"
   ]
  },
  {
   "cell_type": "code",
   "execution_count": null,
   "metadata": {},
   "outputs": [],
   "source": [
    "FMSpectrum2.Fig"
   ]
  },
  {
   "cell_type": "code",
   "execution_count": null,
   "metadata": {},
   "outputs": [],
   "source": [
    "mod = FMSpectrum2.datasets.models"
   ]
  },
  {
   "cell_type": "code",
   "execution_count": null,
   "metadata": {},
   "outputs": [],
   "source": [
    "#for f in mod:\n",
    "#    if 'M87' not in f.name:\n",
    "#        f.freeze()"
   ]
  },
  {
   "cell_type": "code",
   "execution_count": null,
   "metadata": {},
   "outputs": [],
   "source": [
    "#for f in mod.parameters.free_parameters:\n",
    "#    print(f)"
   ]
  },
  {
   "cell_type": "code",
   "execution_count": null,
   "metadata": {},
   "outputs": [],
   "source": [
    "print(mod[-1])"
   ]
  },
  {
   "cell_type": "code",
   "execution_count": null,
   "metadata": {},
   "outputs": [],
   "source": [
    "FMSpectrum2.datasets.models[-2].datasets_names = ['Fermi-LAT_FRONT','MAGIC']"
   ]
  },
  {
   "cell_type": "code",
   "execution_count": null,
   "metadata": {},
   "outputs": [],
   "source": [
    "FMSpectrum2.set_target_source(FMSpectrum2.datasets.models[-2].name,FMSpectrum2.datasets[0])\n",
    "FMSpectrum2.get_spectral_points(np.logspace(-1,4.4,18)*u.GeV)\n",
    "fptab3 = FMSpectrum2.flux_points"
   ]
  },
  {
   "cell_type": "code",
   "execution_count": null,
   "metadata": {},
   "outputs": [],
   "source": [
    "fptab3.plot(ax=FMSpectrum2.ax,sed_type='e2dnde')\n",
    "FMSpectrum2.ax.set_xlim([0.08,30000])\n",
    "FMSpectrum2.ax.set_ylim([3e-14,4e-11])\n",
    "FMSpectrum2.Fig"
   ]
  },
  {
   "cell_type": "code",
   "execution_count": null,
   "metadata": {},
   "outputs": [],
   "source": [
    "FMSpectrum2.datasets.models"
   ]
  },
  {
   "cell_type": "code",
   "execution_count": null,
   "metadata": {},
   "outputs": [],
   "source": []
  },
  {
   "cell_type": "code",
   "execution_count": null,
   "metadata": {},
   "outputs": [],
   "source": []
  },
  {
   "cell_type": "code",
   "execution_count": null,
   "metadata": {},
   "outputs": [],
   "source": []
  }
 ],
 "metadata": {
  "kernelspec": {
   "display_name": "gamma-dev",
   "language": "python",
   "name": "gamma-dev"
  },
  "language_info": {
   "codemirror_mode": {
    "name": "ipython",
    "version": 3
   },
   "file_extension": ".py",
   "mimetype": "text/x-python",
   "name": "python",
   "nbconvert_exporter": "python",
   "pygments_lexer": "ipython3",
   "version": "3.8.13"
  }
 },
 "nbformat": 4,
 "nbformat_minor": 4
}
